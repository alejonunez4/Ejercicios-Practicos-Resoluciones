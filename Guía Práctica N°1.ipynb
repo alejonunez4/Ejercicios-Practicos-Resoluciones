{
 "cells": [
  {
   "cell_type": "markdown",
   "metadata": {},
   "source": [
    "GUIA PRACTICA N°1 TIPOS DE DATOS:"
   ]
  },
  {
   "cell_type": "markdown",
   "metadata": {},
   "source": [
    "1) Escribir un programa que pregunte al usuario por el numero de horas trabajadas y el coste por hora. despues debe mostrar por la pantalla la paga total que le corresponde al usuario"
   ]
  },
  {
   "cell_type": "code",
   "execution_count": 5,
   "metadata": {},
   "outputs": [
    {
     "name": "stdout",
     "output_type": "stream",
     "text": [
      "Tu paga total es: 400\n"
     ]
    }
   ],
   "source": [
    "horas = int(input(\"ingresa el numero de horas trabajadas\"));\n",
    "costePorHoras = int(input(\"ingresa el coste por horas\"));\n",
    "pagaTotal = horas * costePorHoras\n",
    "print(\"Tu paga total es:\", pagaTotal);"
   ]
  },
  {
   "cell_type": "markdown",
   "metadata": {},
   "source": [
    "Escribi un programa que realice la siguiente operacion arigmetica:\n",
    "(3+2)/ 2*5"
   ]
  },
  {
   "cell_type": "code",
   "execution_count": 7,
   "metadata": {},
   "outputs": [
    {
     "name": "stdout",
     "output_type": "stream",
     "text": [
      "12.5\n"
     ]
    }
   ],
   "source": [
    "OperacionArigmetica = (3+2) / 2*5\n",
    "print(OperacionArigmetica)"
   ]
  }
 ],
 "metadata": {
  "interpreter": {
   "hash": "a4299617a865ddf08a60b17982ffc4b25ff5ad7e6472ae36577d2fa061dc0eac"
  },
  "kernelspec": {
   "display_name": "Python 3.9.5 64-bit",
   "language": "python",
   "name": "python3"
  },
  "language_info": {
   "codemirror_mode": {
    "name": "ipython",
    "version": 3
   },
   "file_extension": ".py",
   "mimetype": "text/x-python",
   "name": "python",
   "nbconvert_exporter": "python",
   "pygments_lexer": "ipython3",
   "version": "3.9.5"
  },
  "orig_nbformat": 4
 },
 "nbformat": 4,
 "nbformat_minor": 2
}
