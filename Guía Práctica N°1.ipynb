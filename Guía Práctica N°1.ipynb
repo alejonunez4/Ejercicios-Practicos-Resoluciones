{
 "cells": [
  {
   "cell_type": "markdown",
   "metadata": {},
   "source": [
    "GUIA PRACTICA N°1 TIPOS DE DATOS:"
   ]
  },
  {
   "cell_type": "markdown",
   "metadata": {},
   "source": [
    "1) Escribir un programa que pregunte al usuario por el numero de horas trabajadas y el coste por hora. despues debe mostrar por la pantalla la paga total que le corresponde al usuario"
   ]
  },
  {
   "cell_type": "code",
   "execution_count": 46,
   "metadata": {},
   "outputs": [
    {
     "name": "stdout",
     "output_type": "stream",
     "text": [
      "Tu paga total es: 20\n"
     ]
    }
   ],
   "source": [
    "horas = int(input(\"ingresa el numero de horas trabajadas\"));\n",
    "costePorHoras = int(input(\"ingresa el coste por horas\"));\n",
    "pagaTotal = horas * costePorHoras\n",
    "print(\"Tu paga total es:\", pagaTotal);"
   ]
  },
  {
   "cell_type": "markdown",
   "metadata": {},
   "source": [
    "2) Escribi un programa que realice la siguiente operacion arigmetica:\n",
    "(3+2)/ 2*5"
   ]
  },
  {
   "cell_type": "code",
   "execution_count": null,
   "metadata": {},
   "outputs": [
    {
     "name": "stdout",
     "output_type": "stream",
     "text": [
      "12.5\n"
     ]
    }
   ],
   "source": [
    "OperacionArigmetica = (3+2) / 2*5\n",
    "print(OperacionArigmetica)"
   ]
  },
  {
   "cell_type": "markdown",
   "metadata": {},
   "source": [
    "3) Escribi un programa que realice la siguiente operacion arigmetica:\n",
    "√(3.9 + 5.5 * 2.1)5"
   ]
  },
  {
   "cell_type": "code",
   "execution_count": null,
   "metadata": {},
   "outputs": [
    {
     "name": "stdout",
     "output_type": "stream",
     "text": [
      "15.117061718468973\n"
     ]
    }
   ],
   "source": [
    "OperacionArigmetica1 = (3.9 + 5.5 * 2.1 ** 5) ** 0.5\n",
    "print(OperacionArigmetica1)"
   ]
  },
  {
   "cell_type": "markdown",
   "metadata": {},
   "source": [
    "4) Escribir un programa que pida al usuario dos numeros enteros y muestre por pantalla el siguiente mensaje:\n",
    "\"<n> entre <m> da un cociente <c> y un resto <r>\", donde <n> y <m> son los numeros introducidos por el usuario, y <c> y <r> son el cociente y el resto de la division respectivamente."
   ]
  },
  {
   "cell_type": "code",
   "execution_count": null,
   "metadata": {},
   "outputs": [],
   "source": [
    "n = int(input(\"Ingresa un numero\"))\n",
    "m = int(input(\"Ingresa un segundo numero\"))\n",
    "c = n / m\n",
    "r = n % m\n",
    "\n",
    "print (n, \"entre\",m,\"da un cociente\", c, \"y un resto\",r)"
   ]
  },
  {
   "cell_type": "markdown",
   "metadata": {},
   "source": [
    "5) Escriba un programa que, dadas las longitudes de los catetos de un triangulo rectangulo, calcule la longitud de su hipotenusa."
   ]
  },
  {
   "cell_type": "code",
   "execution_count": null,
   "metadata": {},
   "outputs": [
    {
     "name": "stdout",
     "output_type": "stream",
     "text": [
      "13.0\n"
     ]
    }
   ],
   "source": [
    "a = float(input(\"Ingrese la longitud de un cateto\"))\n",
    "b = float(input(\"ingrese la longitud del otro cateto\"))\n",
    "\n",
    "hipAlCuadrado = a ** 2 + b ** 2\n",
    "hipotenusa = hipAlCuadrado ** 0.5\n",
    "\n",
    "print(hipotenusa)"
   ]
  },
  {
   "cell_type": "markdown",
   "metadata": {},
   "source": [
    "6) Escriba un progama que lea un nuemro de cuatro digitos y muestre en patalla el numero escrito en reverso. Por ejemplo, si el número leído es 5432 la salida deberia ser 2345."
   ]
  },
  {
   "cell_type": "code",
   "execution_count": 26,
   "metadata": {},
   "outputs": [
    {
     "name": "stdout",
     "output_type": "stream",
     "text": [
      "98742\n"
     ]
    }
   ],
   "source": [
    "Numero = int(input(\"ingrese un numero\"))\n",
    "NumeroString = str(Numero)\n",
    "NumeroList = list(reversed(NumeroString))\n",
    "NumeroJoin = ''.join(NumeroList)\n",
    "print(NumeroJoin)"
   ]
  },
  {
   "cell_type": "markdown",
   "metadata": {},
   "source": [
    "8) Una jugueteria tiene mucho éxito en dos de sus prodcutos: payasos y muñecas. Suele hacer venta por correo y la empresa de logistica les cobra por peso de cada paquete asi que deben calcular el peso de los payasos y muñecas qeue saldran en cada paquete a demanda. Cada payaso tiene un peso de 112g y cada muñeca 75g. Escribe un programa que lea el número de payasos y muñecas vendidos en el último pedido y calcule el peso del paquete que será enviado."
   ]
  },
  {
   "cell_type": "code",
   "execution_count": 31,
   "metadata": {},
   "outputs": [
    {
     "name": "stdout",
     "output_type": "stream",
     "text": [
      "El peso total del paquete enviado sera de 860\n"
     ]
    }
   ],
   "source": [
    "muñecas = int(input('Ingrese el numero de muñecas vendidas'))\n",
    "payasos = int(input('Ingrese el numero de payasos vendidos'))\n",
    "\n",
    "pesoMuñeca = 75\n",
    "pesoPayaso = 112\n",
    "\n",
    "pesoTotal = muñecas * pesoMuñeca + payasos * pesoPayaso\n",
    "\n",
    "print('El peso total del paquete enviado sera de', pesoTotal)"
   ]
  },
  {
   "cell_type": "markdown",
   "metadata": {},
   "source": [
    "9) Escriba un programa que dados la distancia recorrida por un objeto y el tiempo que tomó el objeto en recorrer esa distancia, calcule su velocidad."
   ]
  },
  {
   "cell_type": "code",
   "execution_count": 36,
   "metadata": {},
   "outputs": [
    {
     "name": "stdout",
     "output_type": "stream",
     "text": [
      "El objeto tuvo una velocidad de 96.0 Km/H\n"
     ]
    }
   ],
   "source": [
    "tiempoInHoras =  float(input('Ingrese el tiempo'))\n",
    "distanciaInKm = float(input('Ingrese la distancia'))\n",
    "\n",
    "velocidadInKmH = distanciaInKm / tiempoInHoras\n",
    "print('El objeto tuvo una velocidad de', velocidadInKmH, 'Km/H')"
   ]
  },
  {
   "cell_type": "markdown",
   "metadata": {},
   "source": [
    "10) Escriba un programa que reciba como entrada los coeficientes A,B, y C de una ecuación de segundo grado, e imprima por pantalla los valores de x. Asuma que la ecuación siempre tiene solución en números reales. Recuerde que la solución de una ecuación de segundo viene dada por: "
   ]
  },
  {
   "cell_type": "code",
   "execution_count": 51,
   "metadata": {},
   "outputs": [
    {
     "name": "stdout",
     "output_type": "stream",
     "text": [
      "X1 es: -2.5 y X2 es: -3.5\n"
     ]
    }
   ],
   "source": [
    "A = float(input('Ingrese el valor del coeficiente A'))\n",
    "B = float(input('Ingrese el valor del coeficiente B'))\n",
    "C = float(input('Ingrese el valor del coeficiente C'))\n",
    "\n",
    "x1 = -B + (B**2 - (4 * A * C)) ** 0.5 / 2 * A\n",
    "x2 = -B - (B**2 - (4 * A * C)) ** 0.5 / 2 * A\n",
    "\n",
    "print('X1 es:', x1, 'y X2 es:', x2,)"
   ]
  }
 ],
 "metadata": {
  "interpreter": {
   "hash": "a4299617a865ddf08a60b17982ffc4b25ff5ad7e6472ae36577d2fa061dc0eac"
  },
  "kernelspec": {
   "display_name": "Python 3.9.5 64-bit",
   "language": "python",
   "name": "python3"
  },
  "language_info": {
   "codemirror_mode": {
    "name": "ipython",
    "version": 3
   },
   "file_extension": ".py",
   "mimetype": "text/x-python",
   "name": "python",
   "nbconvert_exporter": "python",
   "pygments_lexer": "ipython3",
   "version": "3.9.5"
  },
  "orig_nbformat": 4
 },
 "nbformat": 4,
 "nbformat_minor": 2
}
