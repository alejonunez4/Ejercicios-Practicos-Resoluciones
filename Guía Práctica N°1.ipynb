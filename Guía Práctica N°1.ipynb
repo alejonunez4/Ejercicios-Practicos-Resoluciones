{
 "cells": [
  {
   "cell_type": "markdown",
   "metadata": {},
   "source": [
    "GUIA PRACTICA N°1 TIPOS DE DATOS:"
   ]
  },
  {
   "cell_type": "markdown",
   "metadata": {},
   "source": [
    "1) Escribir un programa que pregunte al usuario por el numero de horas trabajadas y el coste por hora. despues debe mostrar por la pantalla la paga total que le corresponde al usuario"
   ]
  },
  {
   "cell_type": "code",
   "execution_count": 5,
   "metadata": {},
   "outputs": [
    {
     "name": "stdout",
     "output_type": "stream",
     "text": [
      "Tu paga total es: 400\n"
     ]
    }
   ],
   "source": [
    "horas = int(input(\"ingresa el numero de horas trabajadas\"));\n",
    "costePorHoras = int(input(\"ingresa el coste por horas\"));\n",
    "pagaTotal = horas * costePorHoras\n",
    "print(\"Tu paga total es:\", pagaTotal);"
   ]
  },
  {
   "cell_type": "markdown",
   "metadata": {},
   "source": [
    "2) Escribi un programa que realice la siguiente operacion arigmetica:\n",
    "(3+2)/ 2*5"
   ]
  },
  {
   "cell_type": "code",
   "execution_count": 7,
   "metadata": {},
   "outputs": [
    {
     "name": "stdout",
     "output_type": "stream",
     "text": [
      "12.5\n"
     ]
    }
   ],
   "source": [
    "OperacionArigmetica = (3+2) / 2*5\n",
    "print(OperacionArigmetica)"
   ]
  },
  {
   "cell_type": "markdown",
   "metadata": {},
   "source": [
    "3) Escribi un programa que realice la siguiente operacion arigmetica:\n",
    "√(3.9 + 5.5 * 2.1)5"
   ]
  },
  {
   "cell_type": "code",
   "execution_count": 2,
   "metadata": {},
   "outputs": [
    {
     "name": "stdout",
     "output_type": "stream",
     "text": [
      "15.117061718468973\n"
     ]
    }
   ],
   "source": [
    "OperacionArigmetica1 = (3.9 + 5.5 * 2.1 ** 5) ** 0.5\n",
    "print(OperacionArigmetica1)"
   ]
  },
  {
   "cell_type": "markdown",
   "metadata": {},
   "source": [
    "4) Escribir un programa que pida al usuario dos numeros enteros y muestre por pantalla el siguiente mensaje:\n",
    "\"<n> entre <m> da un cociente <c> y un resto <r>\", donde <n> y <m> son los numeros introducidos por el usuario, y <c> y <r> son el cociente y el resto de la division respectivamente."
   ]
  },
  {
   "cell_type": "code",
   "execution_count": 12,
   "metadata": {},
   "outputs": [
    {
     "name": "stdout",
     "output_type": "stream",
     "text": [
      "2 entre 2 da un cociente 1.0 y un resto 0\n"
     ]
    }
   ],
   "source": [
    "n = int(input(\"Ingresa un numero\"))\n",
    "m = int(input(\"Ingresa un segundo numero\"))\n",
    "c = n / m\n",
    "r = n % m\n",
    "\n",
    "print (n, \"entre\",m,\"da un cociente\", c, \"y un resto\",r)"
   ]
  },
  {
   "cell_type": "markdown",
   "metadata": {},
   "source": [
    "5) Escriba un programa que, dadas las longitudes de los catetos de un triangulo rectangulo, calcule la longitud de su hipotenusa."
   ]
  },
  {
   "cell_type": "code",
   "execution_count": 13,
   "metadata": {},
   "outputs": [
    {
     "name": "stdout",
     "output_type": "stream",
     "text": [
      "13.0\n"
     ]
    }
   ],
   "source": [
    "a = float(input(\"Ingrese la longitud de un cateto\"))\n",
    "b = float(input(\"ingrese la longitud del otro cateto\"))\n",
    "\n",
    "hipAlCuadrado = a ** 2 + b ** 2\n",
    "hipotenusa = hipAlCuadrado ** 0.5\n",
    "\n",
    "print(hipotenusa)"
   ]
  }
 ],
 "metadata": {
  "interpreter": {
   "hash": "a4299617a865ddf08a60b17982ffc4b25ff5ad7e6472ae36577d2fa061dc0eac"
  },
  "kernelspec": {
   "display_name": "Python 3.9.5 64-bit",
   "language": "python",
   "name": "python3"
  },
  "language_info": {
   "codemirror_mode": {
    "name": "ipython",
    "version": 3
   },
   "file_extension": ".py",
   "mimetype": "text/x-python",
   "name": "python",
   "nbconvert_exporter": "python",
   "pygments_lexer": "ipython3",
   "version": "3.9.5"
  },
  "orig_nbformat": 4
 },
 "nbformat": 4,
 "nbformat_minor": 2
}
