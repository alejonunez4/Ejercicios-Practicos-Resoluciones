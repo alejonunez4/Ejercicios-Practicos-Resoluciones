{
 "cells": [
  {
   "cell_type": "markdown",
   "metadata": {},
   "source": [
    "1. Escribir una función que calcule el área de un círculo y otra que calcule el volumen de un cilindro usando la primera función."
   ]
  },
  {
   "cell_type": "code",
   "execution_count": 12,
   "metadata": {},
   "outputs": [
    {
     "name": "stdout",
     "output_type": "stream",
     "text": [
      "78.5\n"
     ]
    },
    {
     "data": {
      "text/plain": [
       "392.5"
      ]
     },
     "execution_count": 12,
     "metadata": {},
     "output_type": "execute_result"
    }
   ],
   "source": [
    "def areaCirculo(r):\n",
    "    pi = 3.14\n",
    "    area = pi * r**2\n",
    "    return area\n",
    "\n",
    "print(areaCirculo(5))\n",
    "\n",
    "def volumenCilindro(h):\n",
    "    volumen = areaCirculo(5) * h\n",
    "    return volumen\n",
    "\n",
    "volumenCilindro(5)"
   ]
  },
  {
   "cell_type": "markdown",
   "metadata": {},
   "source": [
    "2. Haga una función que reciba como entrada un mes del año y determine el número de días transcurridos desde el comienzo del año hasta el primer día del mes."
   ]
  },
  {
   "cell_type": "markdown",
   "metadata": {},
   "source": [
    "3. Haga una función para determinar si un punto (X, Y) está dentro de un rectángulo. El rectángulo es definido por la coordenada del vértice superior izquierdo, su altura y su ancho."
   ]
  },
  {
   "cell_type": "markdown",
   "metadata": {},
   "source": [
    "4. Haga un algoritmo para una función que reciba dos parámetros N y K y que retorne los K dígitos más a la izquierda de N. Por ejemplo, extraerDigitos (542207, 2) debe retornar 54."
   ]
  },
  {
   "cell_type": "markdown",
   "metadata": {},
   "source": [
    "6. Escribir un programa que pida números positivos al usuario. Mostrar el número cuya sumatoria de dígitos fue mayor y la cantidad de números cuya sumatoria de dígitos fue menor que 10. Utilizar una o más funciones, según sea necesario."
   ]
  },
  {
   "cell_type": "markdown",
   "metadata": {},
   "source": [
    "7. Solicitar números al usuario hasta que ingrese el cero. Por cada uno, mostrar la suma de sus dígitos (utilizando una función que realice dicha suma)."
   ]
  },
  {
   "cell_type": "markdown",
   "metadata": {},
   "source": [
    "8. Solicitar números al usuario hasta que ingrese el cero. Por cada uno, mostrar la suma de sus dígitos. Al finalizar, mostrar la sumatoria de todos los números ingresados y la suma de sus dígitos. Reutilizar la misma función realizada en el Ejercicio N°8."
   ]
  }
 ],
 "metadata": {
  "interpreter": {
   "hash": "a4299617a865ddf08a60b17982ffc4b25ff5ad7e6472ae36577d2fa061dc0eac"
  },
  "kernelspec": {
   "display_name": "Python 3.9.5 64-bit",
   "language": "python",
   "name": "python3"
  },
  "language_info": {
   "codemirror_mode": {
    "name": "ipython",
    "version": 3
   },
   "file_extension": ".py",
   "mimetype": "text/x-python",
   "name": "python",
   "nbconvert_exporter": "python",
   "pygments_lexer": "ipython3",
   "version": "3.9.5"
  },
  "orig_nbformat": 4
 },
 "nbformat": 4,
 "nbformat_minor": 2
}
