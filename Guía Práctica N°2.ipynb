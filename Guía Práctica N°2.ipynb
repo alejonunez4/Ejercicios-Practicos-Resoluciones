{
 "cells": [
  {
   "cell_type": "markdown",
   "metadata": {},
   "source": [
    "GUIA PRACTICA N°2 CONDICIONALES:"
   ]
  },
  {
   "cell_type": "markdown",
   "metadata": {},
   "source": [
    "1. Escribir un programa que pida al usuario dos números y muestre por pantalla su división. Si el divisor es cero, el programa debe mostrar un mensaje de error."
   ]
  },
  {
   "cell_type": "code",
   "execution_count": 10,
   "metadata": {},
   "outputs": [
    {
     "name": "stdout",
     "output_type": "stream",
     "text": [
      "Error, el divisor debe ser disinto de 0\n"
     ]
    }
   ],
   "source": [
    "num1 = int(input('ingresa un numero entero'))\n",
    "num2 = int(input('ingresa otro numero entero'))\n",
    "\n",
    "try:\n",
    "    resultado = num1/num2\n",
    "    print('el resultado es', resultado)\n",
    "except:    \n",
    "        print('Error, el divisor debe ser disinto de 0')"
   ]
  },
  {
   "cell_type": "markdown",
   "metadata": {},
   "source": [
    "2. Para tributar un determinado impuesto se debe ser mayor de 16 años y tener unos ingresos iguales o superiores a 500$ mensuales. Escribir un programa que pregunte al usuario su edad y sus ingresos mensuales y muestre por pantalla si el usuario tiene que atributar o no"
   ]
  },
  {
   "cell_type": "code",
   "execution_count": 21,
   "metadata": {},
   "outputs": [
    {
     "name": "stdout",
     "output_type": "stream",
     "text": [
      "No debes tributar\n"
     ]
    }
   ],
   "source": [
    "edad = int(input('¿Cual es su edad?'))\n",
    "ingresosMensuales = int(input('¿Cuales son sus ingresos mensuales?'))\n",
    "\n",
    "if (edad >= 16 and ingresosMensuales>= 500):\n",
    "    print('Debes tributar')\n",
    "else: print('No debes tributar')"
   ]
  },
  {
   "cell_type": "markdown",
   "metadata": {},
   "source": [
    "3. Realice un programa que imprima “Capicúa” si un número de entrada de cuatro dígitos es capicúa, o “No lo es” en caso contrario. Un número es\n",
    "capicúa si se escribe igual al derecho y a revés. Por ejemplo, 1551 es un número capicúa."
   ]
  },
  {
   "cell_type": "code",
   "execution_count": 33,
   "metadata": {},
   "outputs": [
    {
     "name": "stdout",
     "output_type": "stream",
     "text": [
      "454 Es capicua\n"
     ]
    }
   ],
   "source": [
    "Numero = int(input('ingrese un numero'))\n",
    "NumeroAstring = str(Numero)\n",
    "stringInvertido = NumeroAstring[::-1]\n",
    "NumeroInvertido = int(stringInvertido)\n",
    "\n",
    "if (Numero == NumeroInvertido):\n",
    "    print(Numero, 'Es capicua')\n",
    "else: print(Numero, 'No es capicua')"
   ]
  },
  {
   "cell_type": "markdown",
   "metadata": {},
   "source": [
    "4. El IMC resulta de la división de la masa del individuo (en kilogramos) entre el cuadrado de la estatura (en metros). El índice de masa corporal es un indicador del peso de una persona en relación con su altura.\n",
    "Clasificación del IMC de acuerdo con la OMS de la ONU:\n",
    "(a) Menor a 16: Criterio de ingreso.\n",
    "(b) 16 a 16.9: infrapeso.\n",
    "(c) 17 a 18.4: bajo peso.\n",
    "(d) 18.5 a 24.9: peso normal.\n",
    "(e) 25 a 29.9: sobrepeso.\n",
    "(f) 30 a 34.9: obesidad premórbida.\n",
    "(g) 40 a 45: obesidad mórbida.\n",
    "(h) Mayor a 45: obesidad hipermórbida.\n",
    "Escriba un programa que dado el peso de una persona en libras (1 libra = 0.453592 Kg) y su estatura en centímetros, calcule su IMC e indique como salida el peso en kilogramos, el valor de IMC de la persona y la categoría en la cual fue clasificad"
   ]
  },
  {
   "cell_type": "code",
   "execution_count": 42,
   "metadata": {},
   "outputs": [
    {
     "name": "stdout",
     "output_type": "stream",
     "text": [
      "Su peso en Kilogramos es: 69.853168 Su IMC es: 24.17064636678201 y su categoria es: peso normal\n"
     ]
    }
   ],
   "source": [
    "pesoL = float(input('ingrese su peso en libras'))\n",
    "estaturaCM = float(input('ingrese su estatura en centimetros'))\n",
    "\n",
    "pesoKg = (pesoL * 0.453592)\n",
    "estaturaM = (estaturaCM / 100)\n",
    "imc = (pesoKg / (estaturaM **2))\n",
    "\n",
    "if imc < 16:\n",
    "    categoria = 'Criterio de ingreso'\n",
    "elif (imc >= 16 and imc <=16.9):\n",
    "    categoria = 'infrapeso'\n",
    "elif (imc >= 17 and imc <=18.4):\n",
    "    categoria = 'bajo peso'\n",
    "elif (imc >= 18.5 and imc <=24.9):\n",
    "    categoria = 'peso normal'\n",
    "elif (imc >= 25 and imc <=29.9):\n",
    "    categoria = 'sobrepeso'\n",
    "elif (imc >= 30 and imc <=34.9):\n",
    "    categoria = 'obesidad premórbida'\n",
    "elif (imc >= 40 and imc <=45):\n",
    "    categoria = 'obesidad mórbida'\n",
    "else :\n",
    "    categoria = 'obesidad hipermórbida'\n",
    "\n",
    "print('Su peso en Kilogramos es:',pesoKg, 'Su IMC es:',imc, 'y su categoria es:',categoria)"
   ]
  },
  {
   "cell_type": "markdown",
   "metadata": {},
   "source": [
    "5. Desarrolle un programa que reciba como entrada un número entre 1 y 12 e imprima el nombre del mes correspondiente. Tome en cuenta posibles valores erróneos en la entrada."
   ]
  },
  {
   "cell_type": "code",
   "execution_count": 63,
   "metadata": {},
   "outputs": [
    {
     "name": "stdout",
     "output_type": "stream",
     "text": [
      "El numero que esta ingresando no esta entre 1 y 12\n"
     ]
    }
   ],
   "source": [
    "Numero = int(input('ingrese un numero entre 1 y 12'))\n",
    "\n",
    "if (Numero not in range(1,13)):\n",
    "    print('El numero que esta ingresando no esta entre 1 y 12')\n",
    "elif (Numero == 1):\n",
    "    print('Enero')\n",
    "elif (Numero == 2):\n",
    "    print('Febrero')\n",
    "elif (Numero == 3):\n",
    "    print('Marzo')\n",
    "elif (Numero == 4):\n",
    "    print('Abril')\n",
    "elif (Numero == 5):\n",
    "    print('Mayo')\n",
    "elif (Numero == 6):\n",
    "    print('Junio')\n",
    "elif (Numero == 7):\n",
    "    print('Julio')\n",
    "elif (Numero == 8):\n",
    "    print('Agosto')\n",
    "elif (Numero == 9):\n",
    "    print('Septiembre')\n",
    "elif (Numero == 10):\n",
    "    print('Octubre')\n",
    "elif (Numero == 11):\n",
    "    print('Noviembre')\n",
    "else:\n",
    "    print('Diciembre')\n"
   ]
  },
  {
   "cell_type": "markdown",
   "metadata": {},
   "source": [
    "6. Un número de cuatro cifras es feliz si los dos primeros dígitos son mayores que los dos últimos dígitos. Por ejemplo, 5613 es feliz porque 56 es mayor\n",
    "que 12. Un número de cuatro cifras es creciente si cada dígito es mayor al anteriores. Por ejemplo, 1569 es creciente 1 < 5 < 6 < 9 (o 9 > 6 > 5 > 1).\n",
    "Todo número que es feliz y creciente se dice que es un número muy feliz.\n",
    "Todo número que no es feliz ni creciente se dice que es infeliz. Haga un programa que tome como entrada un número de cuatro dígitos e imprima el tipo de número encontrado, según la clasificación descrita.\n"
   ]
  },
  {
   "cell_type": "markdown",
   "metadata": {},
   "source": [
    "7. Dados dos valores X e Y que formar un intervalo cerrado, y un valor W, realice un programa para determinar si W está dentro o fuera del intervalo"
   ]
  },
  {
   "cell_type": "markdown",
   "metadata": {},
   "source": [
    "8. Cree un algoritmo que tome como entrada la hora exacta (horas, minutos, segundos y AM/PM) e indique el número de segundos transcurridos durante ese día"
   ]
  }
 ],
 "metadata": {
  "interpreter": {
   "hash": "a4299617a865ddf08a60b17982ffc4b25ff5ad7e6472ae36577d2fa061dc0eac"
  },
  "kernelspec": {
   "display_name": "Python 3.9.5 64-bit",
   "language": "python",
   "name": "python3"
  },
  "language_info": {
   "codemirror_mode": {
    "name": "ipython",
    "version": 3
   },
   "file_extension": ".py",
   "mimetype": "text/x-python",
   "name": "python",
   "nbconvert_exporter": "python",
   "pygments_lexer": "ipython3",
   "version": "3.9.5"
  },
  "orig_nbformat": 4
 },
 "nbformat": 4,
 "nbformat_minor": 2
}
